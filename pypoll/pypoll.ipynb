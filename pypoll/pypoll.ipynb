{
 "cells": [
  {
   "cell_type": "code",
   "execution_count": 1,
   "metadata": {},
   "outputs": [],
   "source": [
    "import csv\n"
   ]
  },
  {
   "cell_type": "code",
   "execution_count": 2,
   "metadata": {},
   "outputs": [
    {
     "name": "stdout",
     "output_type": "stream",
     "text": [
      "total_votes 241032\n",
      "candidate\n",
      " {'Dwight A. Boykins': 14212, 'Bill King': 33772, 'Sylvester Turner': 111789, 'Tony Buzbee': 69361, 'Victoria Romero': 2933, 'Roy J. Vasquez': 1556, 'Demetria Smith': 1694, 'Sue Lovell': 2932, 'Derrick Broze': 686, 'Kendall Baker': 982, 'Johnny “J.T.” Taylor': 555, 'Naoufal Houjami': 560}\n"
     ]
    }
   ],
   "source": [
    "candidates = {}\n",
    "total_votes = 0\n",
    "\n",
    "\n",
    "csvpath = \"houston_election_data.csv\"\n",
    "with open(csvpath, newline='', encoding='utf-8') as csvfile:\n",
    "\n",
    "    # CSV reader specifies delimiter and variable that holds contents\n",
    "    csvreader = csv.reader(csvfile, delimiter=',')\n",
    "\n",
    "    # Read the header row first (skip this step if there is now header)\n",
    "    csv_header = next(csvreader)\n",
    "\n",
    "#   Read each row of data after the header\n",
    "    for row in csvreader:\n",
    "        cur_candidate = row[0]\n",
    "        total_votes += 1\n",
    "        if cur_candidate not in candidates:\n",
    "            candidates[cur_candidate] = 0\n",
    "        # always cast vote because every candidate is in candidates\n",
    "        candidates[cur_candidate] += 1\n",
    "            \n",
    "\n",
    "print('total_votes', total_votes)\n",
    "print('candidate\\n', candidates)"
   ]
  },
  {
   "cell_type": "code",
   "execution_count": 3,
   "metadata": {},
   "outputs": [
    {
     "name": "stdout",
     "output_type": "stream",
     "text": [
      "Dwight A. Boykins: percentage: 5.9% votes: 14212\n",
      "Bill King: percentage: 14.01% votes: 33772\n",
      "Sylvester Turner: percentage: 46.38% votes: 111789\n",
      "Tony Buzbee: percentage: 28.78% votes: 69361\n",
      "Victoria Romero: percentage: 1.22% votes: 2933\n",
      "Roy J. Vasquez: percentage: 0.65% votes: 1556\n",
      "Demetria Smith: percentage: 0.7% votes: 1694\n",
      "Sue Lovell: percentage: 1.22% votes: 2932\n",
      "Derrick Broze: percentage: 0.28% votes: 686\n",
      "Kendall Baker: percentage: 0.41% votes: 982\n",
      "Johnny “J.T.” Taylor: percentage: 0.23% votes: 555\n",
      "Naoufal Houjami: percentage: 0.23% votes: 560\n"
     ]
    }
   ],
   "source": [
    "for key, value in candidates.items():\n",
    "    print(f\"{key}: percentage: {round(value/ total_votes * 100, 2)}% votes: {value}\")\n"
   ]
  },
  {
   "cell_type": "code",
   "execution_count": 4,
   "metadata": {},
   "outputs": [],
   "source": [
    "max1 = 0\n",
    "max2 = 0\n",
    "candidate1 = \"\"\n",
    "candidate2 = \"\""
   ]
  },
  {
   "cell_type": "code",
   "execution_count": 5,
   "metadata": {},
   "outputs": [
    {
     "name": "stdout",
     "output_type": "stream",
     "text": [
      "top candidate: 111789 Sylvester Turner\n",
      "second candidate: 69361 Tony Buzbee\n"
     ]
    }
   ],
   "source": [
    "# let's fine top candidate\n",
    "for key,value in candidates.items():\n",
    "    if value > max1:\n",
    "        max1 = value\n",
    "        candidate1 = key\n",
    "\n",
    "print('top candidate:', max1, candidate1)    \n",
    "\n",
    "# lets find number 2\n",
    "for key,value in candidates.items():\n",
    "    if value > max2 and key != candidate1:\n",
    "        max2 = value\n",
    "        candidate2 = key \n",
    "\n",
    "print('second candidate:', max2, candidate2)\n"
   ]
  }
 ],
 "metadata": {
  "kernelspec": {
   "display_name": "Python 3",
   "language": "python",
   "name": "python3"
  },
  "language_info": {
   "codemirror_mode": {
    "name": "ipython",
    "version": 3
   },
   "file_extension": ".py",
   "mimetype": "text/x-python",
   "name": "python",
   "nbconvert_exporter": "python",
   "pygments_lexer": "ipython3",
   "version": "3.7.6"
  }
 },
 "nbformat": 4,
 "nbformat_minor": 4
}
